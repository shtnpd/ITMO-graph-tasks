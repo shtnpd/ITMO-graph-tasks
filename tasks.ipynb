{
 "cells": [
  {
   "cell_type": "markdown",
   "id": "06343bcb",
   "metadata": {},
   "source": [
    "### Task 1 - Build Four Graph Variants\n",
    "Using **the same base graph structure as in your written homework (the manual DFS/DFS exercise)**, construct:\n",
    "\n",
    "- Weighted Directed graph\n",
    "- Weighted Undirected graph\n",
    "- Unweighted Undirected graph\n",
    "- Unweighted Directed graph\n"
   ]
  },
  {
   "cell_type": "code",
   "execution_count": 19,
   "id": "6c3f45f2",
   "metadata": {},
   "outputs": [
    {
     "name": "stdout",
     "output_type": "stream",
     "text": [
      "\n",
      "Weighted Directed Graph:\n",
      "Adjacency List:\n",
      "  0: [(1, 2.0), (2, 3.0)]\n",
      "  1: [(3, 1.0)]\n",
      "  2: [(3, 4.0), (4, 2.0)]\n",
      "  3: [(4, 5.0), (5, 1.0)]\n",
      "  4: [(5, 2.0)]\n",
      "  5: []\n",
      "\n",
      "Weighted Undirected Graph:\n",
      "Adjacency List:\n",
      "  0: [(1, 2.0), (2, 3.0)]\n",
      "  1: [(0, 2.0), (3, 1.0)]\n",
      "  2: [(0, 3.0), (3, 4.0), (4, 2.0)]\n",
      "  3: [(1, 1.0), (2, 4.0), (4, 5.0), (5, 1.0)]\n",
      "  4: [(2, 2.0), (3, 5.0), (5, 2.0)]\n",
      "  5: [(3, 1.0), (4, 2.0)]\n",
      "\n",
      "Unweighted Directed Graph:\n",
      "Adjacency List:\n",
      "  0: [(1, 1.0), (2, 1.0)]\n",
      "  1: [(3, 1.0)]\n",
      "  2: [(3, 1.0), (4, 1.0)]\n",
      "  3: [(4, 1.0), (5, 1.0)]\n",
      "  4: [(5, 1.0)]\n",
      "  5: []\n",
      "\n",
      "Unweighted Undirected Graph:\n",
      "Adjacency List:\n",
      "  0: [(1, 1.0), (2, 1.0)]\n",
      "  1: [(0, 1.0), (3, 1.0)]\n",
      "  2: [(0, 1.0), (3, 1.0), (4, 1.0)]\n",
      "  3: [(1, 1.0), (2, 1.0), (4, 1.0), (5, 1.0)]\n",
      "  4: [(2, 1.0), (3, 1.0), (5, 1.0)]\n",
      "  5: [(3, 1.0), (4, 1.0)]\n"
     ]
    }
   ],
   "source": [
    "from graph_factory import GraphFactory\n",
    "\n",
    "edges_weighted = [\n",
    "    (0, 1, 2.0), (0, 2, 3.0),\n",
    "    (1, 3, 1.0),\n",
    "    (2, 3, 4.0), (2, 4, 2.0),\n",
    "    (3, 4, 5.0), (3, 5, 1.0),\n",
    "    (4, 5, 2.0)\n",
    "]\n",
    "edges_unweighted = [\n",
    "    (0, 1, 1.0), (0, 2, 1.0),\n",
    "    (1, 3, 1.0),\n",
    "    (2, 3, 1.0), (2, 4, 1.0),\n",
    "    (3, 4, 1.0), (3, 5, 1.0),\n",
    "    (4, 5, 1.0)\n",
    "]\n",
    "\n",
    "weighted_directed = GraphFactory.from_edges(6, edges_weighted, directed=True)\n",
    "weighted_undirected = GraphFactory.from_edges(6, edges_weighted, directed=False)\n",
    "unweighted_directed = GraphFactory.from_edges(6, edges_unweighted, directed=True)\n",
    "unweighted_undirected = GraphFactory.from_edges(6, edges_unweighted, directed=False)\n",
    "\n",
    "# Used Copilot for prettier output\n",
    "for g, name in [\n",
    "    (weighted_directed, \"Weighted Directed\"),\n",
    "    (weighted_undirected, \"Weighted Undirected\"),\n",
    "    (unweighted_directed, \"Unweighted Directed\"),\n",
    "    (unweighted_undirected, \"Unweighted Undirected\")\n",
    "]:\n",
    "    print(f\"\\n{name} Graph:\")\n",
    "    print(\"Adjacency List:\")\n",
    "    for v in range(g.vertices):\n",
    "        print(f\"  {v}: {g.get_adjacency_list()[v]}\")"
   ]
  },
  {
   "cell_type": "markdown",
   "id": "2ea89f38",
   "metadata": {},
   "source": [
    "### Task 2 - Apply Algorithms (BFS, DFS, Components, Stats)\n",
    "After you implement the TODO's in algorithmics.py and the required representations in graph_abc.py:\n",
    "\n",
    "For unweighted directed and undirected graphs:\n",
    "1. Run BFS from a chosen start vertex (note your choice).\n",
    "2. Run DFS from the same start vertex.\n",
    "3. Compute connected components:\n",
    "    - For undirected graphs: standard components.\n",
    "    - For directed graphs: weakly connected components (ignore directions).\n",
    "\n",
    "4. Compute component statistics: for each component, report\n",
    "    - vertices (sorted),\n",
    "    - node_count,\n",
    "    - edge_count (count undirected edges once; count directed edges with both endpoints in the component),\n",
    "    - smallest_vertex"
   ]
  },
  {
   "cell_type": "code",
   "execution_count": 20,
   "id": "d6560a9b",
   "metadata": {},
   "outputs": [
    {
     "name": "stdout",
     "output_type": "stream",
     "text": [
      "\n",
      "Unweighted Directed Graph\n",
      "Start vertex: 0\n",
      "BFS order: [0, 1, 2, 3, 4, 5]\n",
      "DFS order: [0, 1, 3, 4, 5, 2]\n",
      "\n",
      "Connected components (1):\n",
      "Component 1: [0, 1, 2, 3, 4, 5]\n",
      "\n",
      "Stats:\n",
      "Component 1:\n",
      "Vertices: [0, 1, 2, 3, 4, 5]\n",
      "Node count: 6\n",
      "Edge count: 8\n",
      "Smallest vertex: 0\n",
      "\n",
      "Unweighted Undirected Graph\n",
      "Start vertex: 0\n",
      "BFS order: [0, 1, 2, 3, 4, 5]\n",
      "DFS order: [0, 1, 3, 2, 4, 5]\n",
      "\n",
      "Connected components (1):\n",
      "Component 1: [0, 1, 2, 3, 4, 5]\n",
      "\n",
      "Stats:\n",
      "Component 1:\n",
      "Vertices: [0, 1, 2, 3, 4, 5]\n",
      "Node count: 6\n",
      "Edge count: 8\n",
      "Smallest vertex: 0\n"
     ]
    }
   ],
   "source": [
    "from algorithmics import GraphAlgorithms\n",
    "\n",
    "start_vertex = 0 \n",
    "\n",
    "def analyze_graph(graph, name):\n",
    "    print(f\"\\n{name} Graph\")\n",
    "    print(f\"Start vertex: {start_vertex}\")\n",
    "    \n",
    "    bfs_order = GraphAlgorithms.bfs(graph, start_vertex)\n",
    "    print(f\"BFS order: {bfs_order}\")\n",
    "    \n",
    "    dfs_order = GraphAlgorithms.dfs(graph, start_vertex)\n",
    "    print(f\"DFS order: {dfs_order}\")\n",
    "    \n",
    "    print()\n",
    "    components = GraphAlgorithms.connected_components(graph)\n",
    "    print(f\"Connected components ({len(components)}):\")\n",
    "    for i, comp in enumerate(components):\n",
    "        print(f\"Component {i+1}: {comp}\")\n",
    "    \n",
    "    print()\n",
    "    # Copilot assisted prettier prints again\n",
    "    stats = GraphAlgorithms.components_with_stats(graph)\n",
    "    print(\"Stats:\")\n",
    "    for i, stat in enumerate(stats):\n",
    "        print(f\"Component {i+1}:\")\n",
    "        print(f\"Vertices: {stat['vertices']}\")\n",
    "        print(f\"Node count: {stat['node_count']}\")\n",
    "        print(f\"Edge count: {stat['edge_count']}\")\n",
    "        print(f\"Smallest vertex: {stat['smallest_vertex']}\")\n",
    "\n",
    "analyze_graph(unweighted_directed, \"Unweighted Directed\")\n",
    "analyze_graph(unweighted_undirected, \"Unweighted Undirected\")"
   ]
  },
  {
   "cell_type": "markdown",
   "id": "ce0b9cd2",
   "metadata": {},
   "source": [
    "### Task 3 - Visualize One Graph with NetworkX\n",
    "Pick any one of the four graphs (the most interesting one) and draw it using NetworkX."
   ]
  },
  {
   "cell_type": "code",
   "execution_count": 21,
   "id": "6ab608c6",
   "metadata": {},
   "outputs": [
    {
     "data": {
      "image/png": "[encoded data removed]",
      "text/plain": [
       "<Figure size 800x600 with 1 Axes>"
      ]
     },
     "metadata": {},
     "output_type": "display_data"
    }
   ],
   "source": [
    "import networkx as nx\n",
    "import matplotlib.pyplot as plt\n",
    "\n",
    "G = nx.DiGraph()\n",
    "G.add_nodes_from(range(weighted_directed.vertices))\n",
    "adj_list = weighted_directed.get_adjacency_list()\n",
    "\n",
    "for u in range(weighted_directed.vertices):\n",
    "    for v, weight in adj_list[u]:\n",
    "        G.add_edge(u, v, weight=weight)\n",
    "\n",
    "plt.figure(figsize=(8, 6))\n",
    "pos = nx.spring_layout(G, seed=30)\n",
    "nx.draw(G, pos, with_labels=True, node_color='pink')\n",
    "\n",
    "edge_labels = nx.get_edge_attributes(G, 'weight')\n",
    "nx.draw_networkx_edge_labels(G, pos, edge_labels=edge_labels)\n",
    "\n",
    "plt.title(\"Weighted Directed Graph\")\n",
    "plt.show()\n"
   ]
  }
 ],
 "metadata": {
  "kernelspec": {
   "display_name": "venv",
   "language": "python",
   "name": "python3"
  },
  "language_info": {
   "codemirror_mode": {
    "name": "ipython",
    "version": 3
   },
   "file_extension": ".py",
   "mimetype": "text/x-python",
   "name": "python",
   "nbconvert_exporter": "python",
   "pygments_lexer": "ipython3",
   "version": "3.14.0"
  }
 },
 "nbformat": 4,
 "nbformat_minor": 5
}
