{
 "cells": [
  {
   "cell_type": "markdown",
   "id": "89622af9",
   "metadata": {},
   "source": [
    "# Task 1\n",
    "You are given a string s consisting of lowercase English letters. You need to find the longest proper prefix of the string that is also its suffix. Proper means the prefix is not equal to the entire string."
   ]
  },
  {
   "cell_type": "code",
   "execution_count": 1,
   "id": "def2c289",
   "metadata": {},
   "outputs": [],
   "source": [
    "# Prefix function implemented in pref_functions.python\n",
    "from pref_function import prefix_function"
   ]
  },
  {
   "cell_type": "code",
   "execution_count": 2,
   "id": "071b225b",
   "metadata": {},
   "outputs": [],
   "source": [
    "def longest_proper_prefix_suffix(s):\n",
    "    pi = prefix_function(s)\n",
    "    L = pi[-1]\n",
    "    return s[:L]"
   ]
  },
  {
   "cell_type": "code",
   "execution_count": 10,
   "id": "a0af6923",
   "metadata": {},
   "outputs": [
    {
     "name": "stdout",
     "output_type": "stream",
     "text": [
      "\n"
     ]
    }
   ],
   "source": [
    "# Test\n",
    "s = input().strip()\n",
    "result = longest_proper_prefix_suffix(s)\n",
    "print(result)"
   ]
  }
 ],
 "metadata": {
  "kernelspec": {
   "display_name": "Python 3",
   "language": "python",
   "name": "python3"
  },
  "language_info": {
   "codemirror_mode": {
    "name": "ipython",
    "version": 3
   },
   "file_extension": ".py",
   "mimetype": "text/x-python",
   "name": "python",
   "nbconvert_exporter": "python",
   "pygments_lexer": "ipython3",
   "version": "3.14.0"
  }
 },
 "nbformat": 4,
 "nbformat_minor": 5
}
